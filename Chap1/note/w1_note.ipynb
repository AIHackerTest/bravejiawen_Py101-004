{
 "cells": [
  {
   "cell_type": "markdown",
   "metadata": {
    "collapsed": true
   },
   "source": [
    "# w1天气查询MVP相关笔记\n",
    "\n",
    "## 文件读取\n",
    "### open\n",
    "- 文件如果不在同一目录下，需要包括路径\n",
    "- 读取使用r或r+,使用w模式会覆盖掉已有内容\n",
    "- 编码使用utf-8\n",
    "- 打开后的文件需要关闭，减少资源占用"
   ]
  },
  {
   "cell_type": "code",
   "execution_count": 2,
   "metadata": {
    "collapsed": true
   },
   "outputs": [
    {
     "ename": "FileNotFoundError",
     "evalue": "[Errno 2] No such file or directory: 'file.txt'",
     "traceback": [
      "\u001b[1;31m---------------------------------------------------------------------------\u001b[0m",
      "\u001b[1;31mFileNotFoundError\u001b[0m                         Traceback (most recent call last)",
      "\u001b[1;32m<ipython-input-2-1f40735ec0c9>\u001b[0m in \u001b[0;36m<module>\u001b[1;34m()\u001b[0m\n\u001b[1;32m----> 1\u001b[1;33m \u001b[0mf\u001b[0m \u001b[1;33m=\u001b[0m \u001b[0mopen\u001b[0m\u001b[1;33m(\u001b[0m\u001b[1;34m'file.txt'\u001b[0m\u001b[1;33m,\u001b[0m\u001b[1;34m'r'\u001b[0m\u001b[1;33m,\u001b[0m\u001b[0mencoding\u001b[0m\u001b[1;33m=\u001b[0m\u001b[1;34m'utf-8'\u001b[0m\u001b[1;33m)\u001b[0m \u001b[1;31m#文件\u001b[0m\u001b[1;33m\u001b[0m\u001b[0m\n\u001b[0m\u001b[0;32m      2\u001b[0m \u001b[0mf\u001b[0m\u001b[1;33m.\u001b[0m\u001b[0mclose\u001b[0m\u001b[1;33m(\u001b[0m\u001b[1;33m)\u001b[0m\u001b[1;33m\u001b[0m\u001b[0m\n",
      "\u001b[1;31mFileNotFoundError\u001b[0m: [Errno 2] No such file or directory: 'file.txt'"
     ],
     "output_type": "error"
    }
   ],
   "source": [
    "f = open('file.txt','r',encoding='utf-8') #文件\n",
    "f.close()"
   ]
  },
  {
   "cell_type": "markdown",
   "metadata": {},
   "source": [
    "### with as\n",
    "- 这是一种简写方式，自动调用close()"
   ]
  },
  {
   "cell_type": "code",
   "execution_count": null,
   "metadata": {},
   "outputs": [],
   "source": [
    "with open('file.txt','r') as f:\n",
    "    print(f.read())#其他语句都可以咯"
   ]
  },
  {
   "cell_type": "markdown",
   "metadata": {},
   "source": [
    "### read()相关\n",
    "- read()是一次性读取文件内容，格式是str\n",
    "- read([size])每次读取指定字节大小的内容\n",
    "- readline()每次读取一行\n",
    "- readlines()一次性读取所有内容，按行来，格式为list，会包括\\n"
   ]
  },
  {
   "cell_type": "code",
   "execution_count": 6,
   "metadata": {},
   "outputs": [],
   "source": [
    "with open('weather_info.txt', 'r', encoding='utf-8') as f:\n",
    "    print(type(f.read())) # str\n",
    "    print(type(f.readline())) # str\n",
    "    print(type(f.readlines())) # list"
   ]
  },
  {
   "cell_type": "markdown",
   "metadata": {},
   "source": [
    "## 字典与列表\n",
    "### 新字典\n",
    "- dict()\n",
    "- {}"
   ]
  },
  {
   "cell_type": "code",
   "execution_count": 9,
   "metadata": {
    "collapsed": true
   },
   "outputs": [
    {
     "name": "stdout",
     "output_type": "stream",
     "text": [
      "{}\n{}\n"
     ]
    }
   ],
   "source": [
    "d1 = dict()\n",
    "d2 = {}\n",
    "print(d1)\n",
    "print(d2)"
   ]
  },
  {
   "cell_type": "markdown",
   "metadata": {},
   "source": [
    "### 列表转换成字典\n",
    "- 使用dict函数"
   ]
  },
  {
   "cell_type": "code",
   "execution_count": 18,
   "metadata": {},
   "outputs": [
    {
     "name": "stdout",
     "output_type": "stream",
     "text": [
      "{1: 2, 3: 4}\n{'a': 'b', 'c': 'd'}\n"
     ]
    }
   ],
   "source": [
    "print(dict([[1,2],[3,4]]))\n",
    "print(dict([('a','b'),('c','d')]))"
   ]
  },
  {
   "cell_type": "markdown",
   "metadata": {},
   "source": [
    "- 使用for循环转换"
   ]
  },
  {
   "cell_type": "code",
   "execution_count": 27,
   "metadata": {},
   "outputs": [
    {
     "name": "stdout",
     "output_type": "stream",
     "text": [
      "{1: 2, 3: 4}\n"
     ]
    }
   ],
   "source": [
    "d1 = {}\n",
    "l1 = [1,2,3,4]\n",
    "for i in range(0,len(l1),2):\n",
    "    d1[l1[i]] = l1[i+1]\n",
    "print(d1)"
   ]
  },
  {
   "cell_type": "markdown",
   "metadata": {},
   "source": [
    "### 字典转换成列表\n",
    "- items()方法"
   ]
  },
  {
   "cell_type": "code",
   "execution_count": 29,
   "metadata": {},
   "outputs": [
    {
     "data": {
      "text/plain": [
       "dict_items([(1, 2), (3, 4)])"
      ]
     },
     "execution_count": 29,
     "metadata": {},
     "output_type": "execute_result"
    }
   ],
   "source": [
    "d1 = {1:2,3:4}\n",
    "d1.items()#元组数组"
   ]
  },
  {
   "cell_type": "markdown",
   "metadata": {},
   "source": [
    "## 类与对象\n",
    "### 方法中的self\n",
    "- 定义方法时必须要用到的第一个默认参数，一般用self\n",
    "- 类中引用方法时使用self.function()\n",
    "- self也可以使用其他名字，比如this"
   ]
  },
  {
   "cell_type": "code",
   "execution_count": 36,
   "metadata": {},
   "outputs": [
    {
     "name": "stdout",
     "output_type": "stream",
     "text": [
      "3\n"
     ]
    }
   ],
   "source": [
    "class Num: # 定义类\n",
    "    def add(self): #定义方法\n",
    "        return 1+2\n",
    "    def m(self):\n",
    "        print(self.add()) #内部调用方法\n",
    "\n",
    "a = Num() # 生成对象实例\n",
    "a.m() # 调用方法"
   ]
  },
  {
   "cell_type": "markdown",
   "metadata": {},
   "source": [
    "### \\_\\_init__()构造方法\n",
    "- 对象传递参数"
   ]
  },
  {
   "cell_type": "code",
   "execution_count": 34,
   "metadata": {},
   "outputs": [
    {
     "name": "stdout",
     "output_type": "stream",
     "text": [
      "5\n3\n"
     ]
    }
   ],
   "source": [
    "class Num:\n",
    "    def __init__(self,a,b): \n",
    "        self.a=a\n",
    "        self.b=b\n",
    "\n",
    "    def add(self):\n",
    "        return (self.a+self.b)\n",
    "\n",
    "    def m(self):\n",
    "        print(self.add())\n",
    "\n",
    "a = Num(2,3) #创建实例的时候必须闯入对应的参数\n",
    "a.m()\n",
    "print(a.b)"
   ]
  },
  {
   "cell_type": "code",
   "execution_count": null,
   "metadata": {},
   "outputs": [],
   "source": [
    ""
   ]
  }
 ],
 "metadata": {
  "kernelspec": {
   "display_name": "Python 2",
   "language": "python",
   "name": "python2"
  },
  "language_info": {
   "codemirror_mode": {
    "name": "ipython",
    "version": 2.0
   },
   "file_extension": ".py",
   "mimetype": "text/x-python",
   "name": "python",
   "nbconvert_exporter": "python",
   "pygments_lexer": "ipython2",
   "version": "2.7.6"
  }
 },
 "nbformat": 4,
 "nbformat_minor": 0
}