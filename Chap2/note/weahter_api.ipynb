{
 "cells": [
  {
   "cell_type": "markdown",
   "metadata": {},
   "source": [
    "# 利用api获取实时天气信息\n",
    "\n",
    "### API\n",
    "\n",
    "- 查看API文档\n",
    "- 注册获取密钥\n",
    "- 参考示例代码\n",
    "\n",
    "### requests模块\n",
    "\n",
    "- 安装requests"
   ]
  },
  {
   "cell_type": "code",
   "execution_count": 1,
   "metadata": {},
   "outputs": [],
   "source": [
    ""
   ]
  },
  {
   "cell_type": "code",
   "execution_count": 2,
   "metadata": {},
   "outputs": [
    {
     "name": "stdout",
     "output_type": "stream",
     "text": [
      "<class 'str'>\n<class 'dict'>\n<class 'list'>\n多云\n"
     ]
    }
   ],
   "source": [
    "import requests\n",
    "result = requests.get(\n",
    "    'https://api.seniverse.com/v3/weather/now.json',\n",
    "    params={\n",
    "        'key':'ohqszln8seprvdc5',\n",
    "        'location':'shanghai',\n",
    "        'language':'zh-cn'\n",
    "\n",
    "    },timeout = 1\n",
    ")\n",
    "print(type(result.text))# str\n",
    "print(type(result.json()))#dict\n",
    "result2 = result.json()\n",
    "result3 = result2.get('results')\n",
    "print(type(result3)) # list\n",
    "result4 = dict(result3[0])\n",
    "print(result4['now']['text'])"
   ]
  },
  {
   "cell_type": "code",
   "execution_count": null,
   "metadata": {},
   "outputs": [],
   "source": [
    ""
   ]
  }
 ],
 "metadata": {
  "kernelspec": {
   "display_name": "Python 2",
   "language": "python",
   "name": "python2"
  },
  "language_info": {
   "codemirror_mode": {
    "name": "ipython",
    "version": 2.0
   },
   "file_extension": ".py",
   "mimetype": "text/x-python",
   "name": "python",
   "nbconvert_exporter": "python",
   "pygments_lexer": "ipython2",
   "version": "2.7.6"
  }
 },
 "nbformat": 4,
 "nbformat_minor": 0
}